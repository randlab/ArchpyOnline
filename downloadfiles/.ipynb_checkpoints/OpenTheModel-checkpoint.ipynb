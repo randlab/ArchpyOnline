{
 "cells": [
  {
   "cell_type": "code",
   "execution_count": 4,
   "id": "f0fec906",
   "metadata": {},
   "outputs": [],
   "source": [
    "import sys\n",
    "import ArchPy as ap\n",
    "import matplotlib.pyplot as plt\n",
    "import numpy as np\n",
    "import pandas as pd"
   ]
  },
  {
   "cell_type": "code",
   "execution_count": 6,
   "id": "57422aee",
   "metadata": {},
   "outputs": [
    {
     "name": "stdout",
     "output_type": "stream",
     "text": [
      "Unit Alluvion ancienne: Surface added for interpolation\n",
      "Unit Alluvions récentes: Surface added for interpolation\n",
      "Warning: Unit 'Surface_1' have no Covmodel for surface interpolation\n",
      "Unit Couverture: Surface added for interpolation\n",
      "Unit Dépôts lacustres: Surface added for interpolation\n",
      "Unit Dépôts palustres: Surface added for interpolation\n",
      "Unit Interglaciaire Riss Würm: Surface added for interpolation\n",
      "Unit Moraine rissienne: Surface added for interpolation\n",
      "Unit Moraine würmienne: Surface added for interpolation\n",
      "Unit Remblais hétérogènes: Surface added for interpolation\n",
      "Unit Retrait rissien: Surface added for interpolation\n",
      "Unit Retrait würmien: Surface added for interpolation\n",
      "Unit Ruisselement; Colluvions: Surface added for interpolation\n",
      "Unit Tertiaire: Surface added for interpolation\n",
      "Stratigraphic unit Couverture added\n",
      "Stratigraphic unit Remblais hétérogènes added\n",
      "Stratigraphic unit Ruisselement; Colluvions added\n",
      "Stratigraphic unit Dépôts lacustres added\n",
      "Stratigraphic unit Dépôts palustres added\n",
      "Stratigraphic unit Alluvions récentes added\n",
      "Stratigraphic unit Retrait würmien added\n",
      "Stratigraphic unit Moraine würmienne added\n",
      "Stratigraphic unit Alluvion ancienne added\n",
      "Stratigraphic unit Interglaciaire Riss Würm added\n",
      "Stratigraphic unit Retrait rissien added\n",
      "Stratigraphic unit Moraine rissienne added\n",
      "Stratigraphic unit Tertiaire added\n",
      "\n",
      "\n",
      " ##LOADING RESULTS## \n",
      "\n",
      "\n"
     ]
    }
   ],
   "source": [
    "Table = ap.inputs.import_project(project_name='My Quaternary Model', ws='../userdata/1681396836_0892832/AP_Results', import_bhs=True, verbose= False)"
   ]
  },
  {
   "cell_type": "code",
   "execution_count": 8,
   "id": "a0d71f72",
   "metadata": {},
   "outputs": [
    {
     "data": {
      "application/vnd.jupyter.widget-view+json": {
       "model_id": "68a51425255b40aaab4bde4b3045e0f0",
       "version_major": 2,
       "version_minor": 0
      },
      "text/plain": [
       "Widget(value=\"<iframe src='http://localhost:46431/index.html?ui=P_0x7f4cb2af0f10_1&reconnect=auto' style='widt…"
      ]
     },
     "metadata": {},
     "output_type": "display_data"
    }
   ],
   "source": [
    "Table.plot_bhs()"
   ]
  },
  {
   "cell_type": "code",
   "execution_count": 7,
   "id": "e74f784b",
   "metadata": {},
   "outputs": [
    {
     "data": {
      "application/vnd.jupyter.widget-view+json": {
       "model_id": "ec1837c669c34dc0bb867e7b9a9f9227",
       "version_major": 2,
       "version_minor": 0
      },
      "text/plain": [
       "Widget(value=\"<iframe src='http://localhost:46431/index.html?ui=P_0x7f4d1c5893a0_0&reconnect=auto' style='widt…"
      ]
     },
     "metadata": {},
     "output_type": "display_data"
    }
   ],
   "source": [
    "Table.plot_units()"
   ]
  },
  {
   "cell_type": "code",
   "execution_count": null,
   "id": "594e8a80",
   "metadata": {},
   "outputs": [],
   "source": []
  }
 ],
 "metadata": {
  "kernelspec": {
   "display_name": "Python 3 (ipykernel)",
   "language": "python",
   "name": "python3"
  },
  "language_info": {
   "codemirror_mode": {
    "name": "ipython",
    "version": 3
   },
   "file_extension": ".py",
   "mimetype": "text/x-python",
   "name": "python",
   "nbconvert_exporter": "python",
   "pygments_lexer": "ipython3",
   "version": "3.9.16"
  }
 },
 "nbformat": 4,
 "nbformat_minor": 5
}
